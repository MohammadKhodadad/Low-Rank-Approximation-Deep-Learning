{
 "cells": [
  {
   "cell_type": "code",
   "execution_count": 1,
   "metadata": {},
   "outputs": [
    {
     "name": "stderr",
     "output_type": "stream",
     "text": [
      "c:\\Users\\khoda\\AppData\\Local\\Programs\\Python\\Python310\\lib\\site-packages\\tqdm\\auto.py:21: TqdmWarning: IProgress not found. Please update jupyter and ipywidgets. See https://ipywidgets.readthedocs.io/en/stable/user_install.html\n",
      "  from .autonotebook import tqdm as notebook_tqdm\n"
     ]
    }
   ],
   "source": [
    "import sys\n",
    "from time import time\n",
    "sys.path.append('..')\n",
    "from modules.data_loader import *\n",
    "from modules.model_loader import *"
   ]
  },
  {
   "cell_type": "code",
   "execution_count": 2,
   "metadata": {},
   "outputs": [
    {
     "name": "stdout",
     "output_type": "stream",
     "text": [
      "['../data\\\\pg11.txt', '../data\\\\pg345.txt', '../data\\\\pg48763.txt']\n"
     ]
    }
   ],
   "source": [
    "device = \"cuda\" if torch.cuda.is_available() else \"cpu\"\n",
    "model,tokenizer,optimizer,loss_function = load_model_utils(device=device)\n",
    "train_dataset,test_dataset,train_loader,test_loader=pipeline_load_dataset(tokenizer,device=device)"
   ]
  },
  {
   "cell_type": "code",
   "execution_count": 3,
   "metadata": {},
   "outputs": [
    {
     "name": "stdout",
     "output_type": "stream",
     "text": [
      "model_size calculation...\n",
      "params counting...\n",
      "inference time analysis...\n",
      "evaluation before training...\n",
      "training...\n"
     ]
    },
    {
     "name": "stderr",
     "output_type": "stream",
     "text": [
      "100%|██████████| 251/251 [00:47<00:00,  5.24it/s]\n"
     ]
    },
    {
     "name": "stdout",
     "output_type": "stream",
     "text": [
      "EPOCH: 0, loss: 3.620640579922741, test_perplexity: 29.693734311942862\n"
     ]
    },
    {
     "name": "stderr",
     "output_type": "stream",
     "text": [
      "100%|██████████| 251/251 [00:51<00:00,  4.84it/s]\n"
     ]
    },
    {
     "name": "stdout",
     "output_type": "stream",
     "text": [
      "EPOCH: 1, loss: 3.438813103147712, test_perplexity: 28.174636424770775\n",
      "evaluation after training...\n",
      "FINISHED.\n"
     ]
    }
   ],
   "source": [
    "gpt_results=run_pipeline(model,train_loader,test_loader,\n",
    "          tokenizer,optimizer,loss_function, \n",
    "          device,2,'gpt2')"
   ]
  },
  {
   "cell_type": "code",
   "execution_count": 4,
   "metadata": {},
   "outputs": [
    {
     "name": "stdout",
     "output_type": "stream",
     "text": [
      "The number of trainable params in your model reduced from 124439808 to 42159360 (66.0%).\n"
     ]
    }
   ],
   "source": [
    "layers=[]\n",
    "ranks=[]\n",
    "layer_names=[]\n",
    "for layer in range(12):\n",
    "    for layer_name in ['mlp_c_fc','mlp_c_proj','attn_c_attn','attn_c_proj']:\n",
    "        layers.append(layer)\n",
    "        ranks.append(32)\n",
    "        layer_names.append(layer_name)\n",
    "model=apply_Lowrank(model,layers=layers,ranks=ranks,layer_names=layer_names,device=device,lowrank_method='svd')"
   ]
  }
 ],
 "metadata": {
  "kernelspec": {
   "display_name": "Python 3",
   "language": "python",
   "name": "python3"
  },
  "language_info": {
   "codemirror_mode": {
    "name": "ipython",
    "version": 3
   },
   "file_extension": ".py",
   "mimetype": "text/x-python",
   "name": "python",
   "nbconvert_exporter": "python",
   "pygments_lexer": "ipython3",
   "version": "3.10.11"
  }
 },
 "nbformat": 4,
 "nbformat_minor": 2
}

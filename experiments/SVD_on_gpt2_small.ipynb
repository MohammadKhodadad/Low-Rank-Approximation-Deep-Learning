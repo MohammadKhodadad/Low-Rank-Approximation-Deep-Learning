{
 "cells": [
  {
   "cell_type": "code",
   "execution_count": 1,
   "metadata": {},
   "outputs": [
    {
     "name": "stderr",
     "output_type": "stream",
     "text": [
      "c:\\Users\\khoda\\AppData\\Local\\Programs\\Python\\Python310\\lib\\site-packages\\tqdm\\auto.py:21: TqdmWarning: IProgress not found. Please update jupyter and ipywidgets. See https://ipywidgets.readthedocs.io/en/stable/user_install.html\n",
      "  from .autonotebook import tqdm as notebook_tqdm\n"
     ]
    }
   ],
   "source": [
    "import sys\n",
    "from time import time\n",
    "sys.path.append('..')\n",
    "from modules.data_loader import *\n",
    "from modules.model_loader import *"
   ]
  },
  {
   "cell_type": "code",
   "execution_count": 2,
   "metadata": {},
   "outputs": [
    {
     "name": "stdout",
     "output_type": "stream",
     "text": [
      "['../data\\\\pg11.txt', '../data\\\\pg345.txt', '../data\\\\pg48763.txt']\n"
     ]
    }
   ],
   "source": [
    "device = \"cuda\" if torch.cuda.is_available() else \"cpu\"\n",
    "model,tokenizer,optimizer,loss_function = load_model_utils(device=device)\n",
    "train_dataset,test_dataset,train_loader,test_loader=pipeline_load_dataset(tokenizer,device=device)"
   ]
  },
  {
   "cell_type": "code",
   "execution_count": 4,
   "metadata": {},
   "outputs": [
    {
     "name": "stderr",
     "output_type": "stream",
     "text": [
      "100%|██████████| 249/249 [00:53<00:00,  4.62it/s]\n"
     ]
    },
    {
     "name": "stdout",
     "output_type": "stream",
     "text": [
      "EPOCH: 0, loss: 3.6156240333036247, test_perplexity: 30.393647836992244\n"
     ]
    },
    {
     "data": {
      "text/plain": [
       "(497814090,\n",
       " 124439808,\n",
       " 124439808,\n",
       " 0.2897252030670643,\n",
       " 0.04315350390970707,\n",
       " 38.76284562358247,\n",
       " 0.21200214428116518,\n",
       " 30.393647836992244)"
      ]
     },
     "execution_count": 4,
     "metadata": {},
     "output_type": "execute_result"
    }
   ],
   "source": [
    "run_pipeline(model,train_loader,test_loader,\n",
    "          tokenizer,optimizer,loss_function, \n",
    "          device,1)"
   ]
  },
  {
   "cell_type": "code",
   "execution_count": 4,
   "metadata": {},
   "outputs": [
    {
     "name": "stdout",
     "output_type": "stream",
     "text": [
      "The number of trainable params in your model reduced from 124439808 to 42159360 (66.0%).\n"
     ]
    }
   ],
   "source": [
    "layers=[]\n",
    "ranks=[]\n",
    "layer_names=[]\n",
    "for layer in range(12):\n",
    "    for layer_name in ['mlp_c_fc','mlp_c_proj','attn_c_attn','attn_c_proj']:\n",
    "        layers.append(layer)\n",
    "        ranks.append(32)\n",
    "        layer_names.append(layer_name)\n",
    "model=apply_Lowrank(model,layers=layers,ranks=ranks,layer_names=layer_names,device=device,lowrank_method='svd')"
   ]
  }
 ],
 "metadata": {
  "kernelspec": {
   "display_name": "Python 3",
   "language": "python",
   "name": "python3"
  },
  "language_info": {
   "codemirror_mode": {
    "name": "ipython",
    "version": 3
   },
   "file_extension": ".py",
   "mimetype": "text/x-python",
   "name": "python",
   "nbconvert_exporter": "python",
   "pygments_lexer": "ipython3",
   "version": "3.10.11"
  }
 },
 "nbformat": 4,
 "nbformat_minor": 2
}

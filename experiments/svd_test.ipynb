{
  "cells": [
    {
      "cell_type": "code",
      "execution_count": 1,
      "metadata": {
        "id": "C060IYie9apJ"
      },
      "outputs": [
        {
          "name": "stderr",
          "output_type": "stream",
          "text": [
            "c:\\Users\\khoda\\AppData\\Local\\Programs\\Python\\Python310\\lib\\site-packages\\tqdm\\auto.py:21: TqdmWarning: IProgress not found. Please update jupyter and ipywidgets. See https://ipywidgets.readthedocs.io/en/stable/user_install.html\n",
            "  from .autonotebook import tqdm as notebook_tqdm\n"
          ]
        }
      ],
      "source": [
        "import copy\n",
        "import tqdm\n",
        "import torch\n",
        "import torch.nn as nn\n",
        "import torch.nn.functional as F\n",
        "import torchvision\n",
        "import torchvision.transforms as transforms\n",
        "from torch.utils.data import DataLoader\n",
        "from time import time\n",
        "\n",
        "import numpy as np\n",
        "from sklearn.model_selection import train_test_split\n",
        "from sklearn.preprocessing import StandardScaler"
      ]
    },
    {
      "cell_type": "code",
      "execution_count": 2,
      "metadata": {
        "id": "xlZRM25n_xBL"
      },
      "outputs": [],
      "source": [
        "# Custom linear layer\n",
        "class CustomLinear(nn.Module):\n",
        "    def __init__(self, in_features, out_features):\n",
        "        super(CustomLinear, self).__init__()\n",
        "        self.weight = nn.Parameter(torch.randn(out_features, in_features))\n",
        "        self.bias = nn.Parameter(torch.randn(out_features))\n",
        "    def forward(self, x):\n",
        "        return x @ self.weight.t() + self.bias\n",
        "\n",
        "# Custom linear layer with SVD\n",
        "class CustomLinearSVD(nn.Module):\n",
        "    def __init__(self, original_layer, rank=None):\n",
        "        super(CustomLinearSVD, self).__init__()\n",
        "        U, S, V = torch.svd(original_layer.weight.data)\n",
        "\n",
        "        if rank is not None and rank < len(S):\n",
        "            U = U[:, :rank]\n",
        "            S = S[:rank]\n",
        "            V = V[:, :rank]\n",
        "        self.U = nn.Parameter(U,requires_grad=False)\n",
        "        self.S = nn.Parameter(torch.diag(S),requires_grad=False)\n",
        "        self.V = nn.Parameter(V)\n",
        "        self.precomputed_SU = nn.Parameter(self.S.t() @ self.U.t(),requires_grad=False)\n",
        "        self.bias = nn.Parameter(original_layer.bias.data)\n",
        "    def forward(self, x):\n",
        "\n",
        "        x= x @ self.V\n",
        "        x= x @ self.precomputed_SU\n",
        "        return x  + self.bias\n",
        "\n",
        "def replace_linear_with_svd(model, layer_num, rank=None):\n",
        "    new_model=copy.deepcopy(model)\n",
        "    for l_n in layer_num:\n",
        "        layer_name = f'layer{l_n}'\n",
        "        original_layer = getattr(new_model, layer_name)\n",
        "        svd_layer = CustomLinearSVD(original_layer, rank=rank)\n",
        "        setattr(new_model, layer_name, svd_layer)\n",
        "    return new_model\n",
        "\n",
        "# Model definition"
      ]
    },
    {
      "cell_type": "code",
      "execution_count": 3,
      "metadata": {
        "id": "noOiDBFl_zVo"
      },
      "outputs": [],
      "source": [
        "class Net(nn.Module):\n",
        "    def __init__(self, linear_layer=CustomLinear):\n",
        "        super(Net, self).__init__()\n",
        "        self.layer1 = linear_layer(784, 8192)\n",
        "        self.layer2 = linear_layer(8192, 8192)\n",
        "        self.layer3 = linear_layer(8192, 10)\n",
        "    def forward(self, x):\n",
        "        x = x.view(x.size(0), -1) # Flatten the tensor\n",
        "        x = F.relu(self.layer1(x))\n",
        "        x = F.relu(self.layer2(x))\n",
        "        return F.log_softmax(self.layer3(x), dim=1)\n",
        "    def freeze_it(self):\n",
        "        for param in self.parameters():\n",
        "            param.requires_grad = False\n"
      ]
    },
    {
      "cell_type": "code",
      "execution_count": 4,
      "metadata": {
        "id": "99MpkSUw_1WB"
      },
      "outputs": [],
      "source": [
        "\n",
        "# Load MNIST dataset\n",
        "transform = transforms.Compose([transforms.ToTensor(),\n",
        "                                transforms.Normalize((0.5,), (0.5,))])\n",
        "trainset = torchvision.datasets.MNIST(root='./data', train=True,\n",
        "                                      download=True, transform=transform)\n",
        "trainloader = DataLoader(trainset, batch_size=63, shuffle=True)\n",
        "testset = torchvision.datasets.MNIST(root='./data', train=False,\n",
        "                                     download=True, transform=transform)\n",
        "testloader = DataLoader(testset, batch_size=63, shuffle=False)\n"
      ]
    },
    {
      "cell_type": "code",
      "execution_count": 5,
      "metadata": {
        "colab": {
          "base_uri": "https://localhost:8080/"
        },
        "id": "bqT_hhGz9hcL",
        "outputId": "7746da9e-a077-442a-f667-417b303e95b8"
      },
      "outputs": [
        {
          "name": "stdout",
          "output_type": "stream",
          "text": [
            "Epoch 1/3 - Train Accuracy: 93.08% - Test Accuracy: 92.44%\n",
            "Epoch 2/3 - Train Accuracy: 93.78% - Test Accuracy: 92.73%\n",
            "Epoch 3/3 - Train Accuracy: 94.95% - Test Accuracy: 94.00%\n"
          ]
        }
      ],
      "source": [
        "device = torch.device('cuda' if torch.cuda.is_available() else 'cpu')\n",
        "# Function to train the model\n",
        "def evaluate_model(model, dataloader, device):\n",
        "    correct = 0\n",
        "    total = 0\n",
        "    model.eval()\n",
        "    with torch.no_grad():\n",
        "        for images, labels in dataloader:\n",
        "            images, labels = images.to(device), labels.to(device)\n",
        "            outputs = model(images)\n",
        "            _, predicted = torch.max(outputs.data, 1)\n",
        "            total += labels.size(0)\n",
        "            correct += (predicted == labels).sum().item()\n",
        "    accuracy = 100 * correct / total\n",
        "    return accuracy\n",
        "def evaluate_model_and_time(model, dataloader, device):\n",
        "    correct = 0\n",
        "    total = 0\n",
        "    time_records=[]\n",
        "    model.eval()\n",
        "    with torch.no_grad():\n",
        "        for images, labels in dataloader:\n",
        "            images, labels = images.to(device), labels.to(device)\n",
        "            start_time=time()\n",
        "            outputs = model(images)\n",
        "            time_records.append(time() - start_time)\n",
        "            _, predicted = torch.max(outputs.data, 1)\n",
        "            total += labels.size(0)\n",
        "            correct += (predicted == labels).sum().item()\n",
        "    accuracy = 100 * correct / total\n",
        "    return accuracy,np.mean(time_records)\n",
        "# Updated train model function\n",
        "def train_model(model, trainloader, testloader, device, epochs=3,lr=0.01):\n",
        "    model.to(device)\n",
        "    criterion = nn.CrossEntropyLoss()\n",
        "    optimizer = torch.optim.Adam(model.parameters(),lr=lr)\n",
        "    for epoch in range(epochs):\n",
        "        model.train()\n",
        "        for images, labels in trainloader:\n",
        "            images, labels = images.to(device), labels.to(device)\n",
        "            optimizer.zero_grad()\n",
        "            output = model(images)\n",
        "            loss = criterion(output, labels)\n",
        "            loss.backward()\n",
        "            optimizer.step()\n",
        "\n",
        "        # Evaluate on training data\n",
        "        train_accuracy = evaluate_model(model, trainloader, device)\n",
        "        # Evaluate on test data\n",
        "        test_accuracy = evaluate_model(model, testloader, device)\n",
        "\n",
        "        print(f'Epoch {epoch+1}/{epochs} - Train Accuracy: {train_accuracy:.2f}% - Test Accuracy: {test_accuracy:.2f}%')\n",
        "\n",
        "# Initialize and train the original model\n",
        "model_original = Net(CustomLinear).to(device)\n",
        "train_model(model_original, trainloader,testloader,device)\n"
      ]
    },
    {
      "cell_type": "code",
      "execution_count": 10,
      "metadata": {
        "id": "JilB4P4C9kp3"
      },
      "outputs": [
        {
          "name": "stdout",
          "output_type": "stream",
          "text": [
            "Original Model Accuracy: 94.000%, Time: 0.03497588 seconds\n",
            "SVD Model (not tuned) Accuracy: 69.000%, Time: 0.01164589 seconds\n",
            "Epoch 1/2 - Train Accuracy: 97.25% - Test Accuracy: 96.04%\n",
            "Epoch 2/2 - Train Accuracy: 98.38% - Test Accuracy: 96.66%\n",
            "SVD Model (Tuned) Accuracy: 96.660%, Time: 0.01784200 seconds\n"
          ]
        }
      ],
      "source": [
        "\n",
        "accuracy_original,time_original = evaluate_model_and_time(model_original.to('cpu'), testloader,'cpu')\n",
        "model_original.freeze_it()\n",
        "model_svd = replace_linear_with_svd(model_original, layer_num=[2], rank=512).to(device) # You can adjust the rank\n",
        "print(f\"Original Model Accuracy: {accuracy_original:.3f}%, Time: {time_original:.8f} seconds\")\n",
        "accuracy_svd ,time_svd= evaluate_model_and_time(model_svd.to('cpu'), testloader,'cpu')\n",
        "print(f\"SVD Model (not tuned) Accuracy: {accuracy_svd:.3f}%, Time: {time_svd:.8f} seconds\")\n",
        "train_model(model_svd, trainloader,testloader,device,2,0.0001)\n",
        "accuracy_svd ,time_svd= evaluate_model_and_time(model_svd.to('cpu'), testloader,'cpu')\n",
        "print(f\"SVD Model (Tuned) Accuracy: {accuracy_svd:.3f}%, Time: {time_svd:.8f} seconds\")\n"
      ]
    },
    {
      "cell_type": "code",
      "execution_count": 7,
      "metadata": {
        "id": "QIjNNw-lA4vA"
      },
      "outputs": [],
      "source": [
        "# for name, param in model_svd.named_parameters():\n",
        "#     print(name,param.requires_grad)\n",
        "#     print()"
      ]
    },
    {
      "cell_type": "code",
      "execution_count": null,
      "metadata": {},
      "outputs": [],
      "source": []
    }
  ],
  "metadata": {
    "accelerator": "GPU",
    "colab": {
      "gpuType": "T4",
      "provenance": []
    },
    "kernelspec": {
      "display_name": "Python 3",
      "name": "python3"
    },
    "language_info": {
      "codemirror_mode": {
        "name": "ipython",
        "version": 3
      },
      "file_extension": ".py",
      "mimetype": "text/x-python",
      "name": "python",
      "nbconvert_exporter": "python",
      "pygments_lexer": "ipython3",
      "version": "3.10.11"
    }
  },
  "nbformat": 4,
  "nbformat_minor": 0
}
